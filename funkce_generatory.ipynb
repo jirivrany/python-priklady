{
 "cells": [
  {
   "cell_type": "markdown",
   "metadata": {},
   "source": [
    "# Argumenty funkcí, Generátory a další\n",
    "\n",
    "Tento notebook pokrývá obsahem část šesté přednášky z Programování v Jazyce Python v ZS 2017 na FM TUL. Přečíst si ho ale může každý, kdo se chce dozvědět něco víc o argumentech funkcí, tajemných slovech \\*args a \\*\\*kwargs, vedlejších efektech in-place operací v Pythonu a v neposlední řadě také o generátorech. \n"
   ]
  },
  {
   "cell_type": "markdown",
   "metadata": {},
   "source": [
    "## Argumenty funkce\n",
    "\n",
    "Argumenty funkce jsou v těle funkce přístupné nejen pod definovanými jmény, ale i všechny najednou. Slouží k tomu funkce locals(). Ta nám vrátí slovník, obsahující všechny argumenty funkce. Klíče ve slovníku jsou jména, která jsme argumentům přidělili při definování funkce.\n",
    "\n"
   ]
  },
  {
   "cell_type": "code",
   "execution_count": 277,
   "metadata": {
    "collapsed": true
   },
   "outputs": [],
   "source": [
    "def simple(a, b, c):\n",
    "    print(locals())"
   ]
  },
  {
   "cell_type": "code",
   "execution_count": 278,
   "metadata": {},
   "outputs": [
    {
     "name": "stdout",
     "output_type": "stream",
     "text": [
      "{'c': 30, 'b': 10, 'a': 10}\n"
     ]
    }
   ],
   "source": [
    "simple(10, 10, 30)"
   ]
  },
  {
   "cell_type": "markdown",
   "metadata": {},
   "source": [
    "Argumenty funkcí mají jména. Pokud jména použijeme při volání funkce, nemusíme nutně dodržet pořadí argumentů. Python si poradí s následujícím zápisem."
   ]
  },
  {
   "cell_type": "code",
   "execution_count": 279,
   "metadata": {},
   "outputs": [
    {
     "name": "stdout",
     "output_type": "stream",
     "text": [
      "{'c': 4, 'b': '222asdada', 'a': 4}\n"
     ]
    }
   ],
   "source": [
    "simple(c=4, a=4, b=\"222asdada\")"
   ]
  },
  {
   "cell_type": "markdown",
   "metadata": {},
   "source": [
    "Argumenty mohou mít nějakou **výchozí hodnotu**. Ta se automaticky použije v případě, že argument při volání vynecháme. "
   ]
  },
  {
   "cell_type": "code",
   "execution_count": 280,
   "metadata": {
    "collapsed": true
   },
   "outputs": [],
   "source": [
    "def implicit(a, b=10, c='retezec'):\n",
    "    print(locals())"
   ]
  },
  {
   "cell_type": "markdown",
   "metadata": {},
   "source": [
    "Takovou funkci potom můžeme zavolat pouze s jedním parametrem. Parametr **a** nemá výchozí hodnotu a proto musí být uveden, jinak volání funkce vyvolá TypeError."
   ]
  },
  {
   "cell_type": "code",
   "execution_count": 281,
   "metadata": {},
   "outputs": [
    {
     "name": "stdout",
     "output_type": "stream",
     "text": [
      "{'c': 'retezec', 'b': 10, 'a': 2222}\n"
     ]
    }
   ],
   "source": [
    "implicit(2222)"
   ]
  },
  {
   "cell_type": "markdown",
   "metadata": {},
   "source": [
    "Kombinací dvou předchozích příkladů dojdeme k tomu, že nemusíme uvádět všechny argumenty. Argument **b** vynecháme následujícím způsobem."
   ]
  },
  {
   "cell_type": "code",
   "execution_count": 282,
   "metadata": {},
   "outputs": [
    {
     "name": "stdout",
     "output_type": "stream",
     "text": [
      "{'c': 222311, 'b': 10, 'a': 2222}\n"
     ]
    }
   ],
   "source": [
    "implicit(2222, c=222311)"
   ]
  },
  {
   "cell_type": "markdown",
   "metadata": {},
   "source": [
    "## Hvězdičková magie\n",
    "\n",
    "Následující zápis jste už mohli vidět v některých předchozích ukázkách. Nyní si vysvětlíme co přesně dělá. Je to možná trochu magické, ale ne složité.\n",
    "\n",
    "Znak ** \\* ** před argumentem **args** znamená, že funkce může přijmout libovolný počet nepojmenovaných argumentů. Obdobně pak dvojice ** \\*\\* ** před slovem **kwargs** umožňuje naší funkci přijmout libovolný počet pojmenovaných argumentů."
   ]
  },
  {
   "cell_type": "code",
   "execution_count": 283,
   "metadata": {
    "collapsed": true
   },
   "outputs": [],
   "source": [
    "def magic(*args, **kwargs):\n",
    "    print(locals())"
   ]
  },
  {
   "cell_type": "markdown",
   "metadata": {},
   "source": [
    "Následující příklad ukazuje, že všechna čísla (nepojmenované argumenty) jsou uvnitř funkce přístupné právě pod klíčem args. Z toho je zřejmé, že jako mnoho jiných věcí jsou v Pythonu i jména **args** a **kwargs** pouze konvencí. Kterou ale opět doporučuji dodržovat."
   ]
  },
  {
   "cell_type": "code",
   "execution_count": 284,
   "metadata": {},
   "outputs": [
    {
     "name": "stdout",
     "output_type": "stream",
     "text": [
      "{'kwargs': {}, 'args': (10, 20, 30, 40)}\n"
     ]
    }
   ],
   "source": [
    "magic(10, 20, 30, 40)"
   ]
  },
  {
   "cell_type": "markdown",
   "metadata": {},
   "source": [
    "Totéž platí i pro argumenty se jmény."
   ]
  },
  {
   "cell_type": "code",
   "execution_count": 285,
   "metadata": {},
   "outputs": [
    {
     "name": "stdout",
     "output_type": "stream",
     "text": [
      "{'kwargs': {'a': 10, 'b': 20, 'test': 30}, 'args': (40,)}\n"
     ]
    }
   ],
   "source": [
    "magic(40, a=10, b=20, test=30)"
   ]
  },
  {
   "cell_type": "markdown",
   "metadata": {},
   "source": [
    "Hvězdičková magie funguje i v obráceném směru. Sekvenční typ jako je list či tupple můžete rozbalit při volání funkce.\n",
    "\n",
    "Nejprve předáme funkci tupple jako celek. Celkem logicky je přístupný jako první prvek pod klíčem args."
   ]
  },
  {
   "cell_type": "markdown",
   "metadata": {},
   "source": [
    "tu = (10, 20, 30, 40)"
   ]
  },
  {
   "cell_type": "code",
   "execution_count": 286,
   "metadata": {},
   "outputs": [
    {
     "name": "stdout",
     "output_type": "stream",
     "text": [
      "{'kwargs': {}, 'args': ((10, 20, 30, 40),)}\n"
     ]
    }
   ],
   "source": [
    "magic(tu)"
   ]
  },
  {
   "cell_type": "markdown",
   "metadata": {},
   "source": [
    "Pokud ale použijeme hvězdičku před jménem proměnné při volání funkce dojde k rozbalení obsahu sekvence na jednotlivé položky. Ty jsou pak přístupné buď jako args."
   ]
  },
  {
   "cell_type": "code",
   "execution_count": 287,
   "metadata": {},
   "outputs": [
    {
     "name": "stdout",
     "output_type": "stream",
     "text": [
      "{'kwargs': {}, 'args': (10, 20, 30, 40)}\n"
     ]
    }
   ],
   "source": [
    "magic(*tu)"
   ]
  },
  {
   "cell_type": "markdown",
   "metadata": {},
   "source": [
    "Nebo jako kwargs pokud použijeme k rozbalení slovník."
   ]
  },
  {
   "cell_type": "code",
   "execution_count": 288,
   "metadata": {
    "collapsed": true
   },
   "outputs": [],
   "source": [
    "sl = {'2': 'jedno', 'keyword': 'zopakovani'}"
   ]
  },
  {
   "cell_type": "code",
   "execution_count": 289,
   "metadata": {},
   "outputs": [
    {
     "name": "stdout",
     "output_type": "stream",
     "text": [
      "{'kwargs': {'2': 'jedno', 'keyword': 'zopakovani'}, 'args': ()}\n"
     ]
    }
   ],
   "source": [
    "magic(**sl)"
   ]
  },
  {
   "cell_type": "markdown",
   "metadata": {},
   "source": [
    "Funguje to i pro \"normální\" funkce - tedy funkce které přijímají předem daný počet parametrů. Jako je například funkce **simple**, kterou již máme vytvořenou."
   ]
  },
  {
   "cell_type": "code",
   "execution_count": 290,
   "metadata": {},
   "outputs": [
    {
     "name": "stdout",
     "output_type": "stream",
     "text": [
      "{'c': 30, 'b': 20, 'a': 10}\n"
     ]
    }
   ],
   "source": [
    "tu2 = (10, 20, 30)\n",
    "simple(*tu2)"
   ]
  },
  {
   "cell_type": "markdown",
   "metadata": {},
   "source": [
    "V tomto případě ale musí mít sekvence správný počet prvků, odpovídající definici funkce. Tedy buď stejný, nebo menší v případě, že funkce má pro některé parametry definovanou výchozí hodnotu. Což má druhá vytvořená funkce s názvem **implicit**."
   ]
  },
  {
   "cell_type": "code",
   "execution_count": 291,
   "metadata": {},
   "outputs": [
    {
     "name": "stdout",
     "output_type": "stream",
     "text": [
      "{'c': 'retezec', 'b': 30, 'a': 10}\n"
     ]
    }
   ],
   "source": [
    "tu3 = (10, 30)\n",
    "implicit(*tu3)"
   ]
  },
  {
   "cell_type": "markdown",
   "metadata": {},
   "source": [
    "A k čemu se tento magický zápis hodí? V definici funkcí zejména tam, kde potřebujeme vytvořit dostatečně široké rozhraní, které zajistí předání všech parametrů. Tedy spíše u systémových věcí, jako je volání konstruktoru rodičovské třídy, nebo při psaní dekorátorů. O tom ale ještě bude řeč. \n",
    "\n",
    "Druhý způsob použití, tedy rozbalení sekvence je možná častější. Odpovídá vlastně vícenásobnému přiřazení. I když v tomto případě dělá \"magii\" Python automaticky, není potřeba používat hvězdičky. Pro zopakování se podívejte na následující příklad."
   ]
  },
  {
   "cell_type": "code",
   "execution_count": 292,
   "metadata": {},
   "outputs": [
    {
     "data": {
      "text/plain": [
       "30"
      ]
     },
     "execution_count": 292,
     "metadata": {},
     "output_type": "execute_result"
    }
   ],
   "source": [
    "a, b, c = tu2\n",
    "c"
   ]
  },
  {
   "cell_type": "markdown",
   "metadata": {},
   "source": [
    "## Inplace operace a měnitelné typy\n",
    "\n",
    "Pozor na to, že některé metody a operace definované pro měnitelné typy jako je **list** tento objekt opravdu modfikují. Právě proto, že je to modifikovatelný neboli měnitelný nebo pěkně česky mutable typ. "
   ]
  },
  {
   "cell_type": "markdown",
   "metadata": {},
   "source": [
    "Vytvoříme jednoduchý list a zjistíme si jeho id."
   ]
  },
  {
   "cell_type": "code",
   "execution_count": 293,
   "metadata": {},
   "outputs": [
    {
     "data": {
      "text/plain": [
       "139862661438664"
      ]
     },
     "execution_count": 293,
     "metadata": {},
     "output_type": "execute_result"
    }
   ],
   "source": [
    "li = [10, 20, 30]\n",
    "id(li)"
   ]
  },
  {
   "cell_type": "markdown",
   "metadata": {},
   "source": [
    "In place operace - tedy připojení dalšího listu pomocí operátoru += modifikuje původní list."
   ]
  },
  {
   "cell_type": "code",
   "execution_count": 294,
   "metadata": {},
   "outputs": [
    {
     "data": {
      "text/plain": [
       "[10, 20, 30, 30, 40]"
      ]
     },
     "execution_count": 294,
     "metadata": {},
     "output_type": "execute_result"
    }
   ],
   "source": [
    "li += [30, 40]\n",
    "li"
   ]
  },
  {
   "cell_type": "markdown",
   "metadata": {},
   "source": [
    "Což si můžeme potvrdit tím, že se opět podíváme na jeho id."
   ]
  },
  {
   "cell_type": "code",
   "execution_count": 295,
   "metadata": {},
   "outputs": [
    {
     "data": {
      "text/plain": [
       "139862661438664"
      ]
     },
     "execution_count": 295,
     "metadata": {},
     "output_type": "execute_result"
    }
   ],
   "source": [
    "id(li)"
   ]
  },
  {
   "cell_type": "markdown",
   "metadata": {},
   "source": [
    "Pokud ale použijeme běžné přičítání, jde o operaci, která původní list nemění. Následující zápis totiž doslova interpretu jazyka říká: \"vezmi data uložená pod jménem **li**, připoj k nim následující data a výsledek  ulož znovu pod jménem **li**. Stará data pak můžeš zahodit.\""
   ]
  },
  {
   "cell_type": "code",
   "execution_count": 296,
   "metadata": {},
   "outputs": [
    {
     "data": {
      "text/plain": [
       "[10, 20, 30, 30, 40, 50, 60]"
      ]
     },
     "execution_count": 296,
     "metadata": {},
     "output_type": "execute_result"
    }
   ],
   "source": [
    "li = li + [50, 60]\n",
    "li"
   ]
  },
  {
   "cell_type": "markdown",
   "metadata": {},
   "source": [
    "Výsledkem je tedy opět list, ale už má jiné id."
   ]
  },
  {
   "cell_type": "code",
   "execution_count": 297,
   "metadata": {},
   "outputs": [
    {
     "data": {
      "text/plain": [
       "139862662046984"
      ]
     },
     "execution_count": 297,
     "metadata": {},
     "output_type": "execute_result"
    }
   ],
   "source": [
    "id(li)"
   ]
  },
  {
   "cell_type": "markdown",
   "metadata": {},
   "source": [
    "Podobně modifkuje **list** také jeho metoda **append**. To asi není moc překvapivé, ale je dobré si pamatovat, že metoda sice modifkuje list, ale sama o sobě nevrací žádnou hodnotu - vrací NoneType."
   ]
  },
  {
   "cell_type": "code",
   "execution_count": 298,
   "metadata": {},
   "outputs": [
    {
     "data": {
      "text/plain": [
       "[10, 20, 30, 30, 40, 50, 60, 100]"
      ]
     },
     "execution_count": 298,
     "metadata": {},
     "output_type": "execute_result"
    }
   ],
   "source": [
    "li.append(100)\n",
    "li"
   ]
  },
  {
   "cell_type": "markdown",
   "metadata": {},
   "source": [
    "Jen pro kontrolu - id je stejné."
   ]
  },
  {
   "cell_type": "code",
   "execution_count": 299,
   "metadata": {},
   "outputs": [
    {
     "data": {
      "text/plain": [
       "139862662046984"
      ]
     },
     "execution_count": 299,
     "metadata": {},
     "output_type": "execute_result"
    }
   ],
   "source": [
    "id(li)"
   ]
  },
  {
   "cell_type": "markdown",
   "metadata": {},
   "source": [
    "Začátečník, no vlastně nejen ten, občas chce výsledek operace append použít jako nový list. A tady nastává problém"
   ]
  },
  {
   "cell_type": "code",
   "execution_count": 300,
   "metadata": {},
   "outputs": [
    {
     "data": {
      "text/plain": [
       "[10, 20, 30, 30, 40, 50, 60, 100, 333]"
      ]
     },
     "execution_count": 300,
     "metadata": {},
     "output_type": "execute_result"
    }
   ],
   "source": [
    "x = li.append(333)\n",
    "li"
   ]
  },
  {
   "cell_type": "markdown",
   "metadata": {},
   "source": [
    "List se sice modifikoval, ale výsledek x je prázdný. Metoda append totiž modifikuje objekt, nevrací jeho kopii."
   ]
  },
  {
   "cell_type": "code",
   "execution_count": 301,
   "metadata": {
    "collapsed": true
   },
   "outputs": [],
   "source": [
    "x"
   ]
  },
  {
   "cell_type": "code",
   "execution_count": 302,
   "metadata": {},
   "outputs": [
    {
     "data": {
      "text/plain": [
       "NoneType"
      ]
     },
     "execution_count": 302,
     "metadata": {},
     "output_type": "execute_result"
    }
   ],
   "source": [
    "type(x)"
   ]
  },
  {
   "cell_type": "markdown",
   "metadata": {},
   "source": [
    "Obdobně se chovají i další metody objektu **list** například **sort**."
   ]
  },
  {
   "cell_type": "code",
   "execution_count": 303,
   "metadata": {},
   "outputs": [
    {
     "data": {
      "text/plain": [
       "NoneType"
      ]
     },
     "execution_count": 303,
     "metadata": {},
     "output_type": "execute_result"
    }
   ],
   "source": [
    "y = li.sort(reverse=True)\n",
    "type(y)"
   ]
  },
  {
   "cell_type": "code",
   "execution_count": 304,
   "metadata": {},
   "outputs": [
    {
     "data": {
      "text/plain": [
       "[333, 100, 60, 50, 40, 30, 30, 20, 10]"
      ]
     },
     "execution_count": 304,
     "metadata": {},
     "output_type": "execute_result"
    }
   ],
   "source": [
    "li"
   ]
  },
  {
   "cell_type": "markdown",
   "metadata": {},
   "source": [
    "Takže pokud opravdu potřebujeme výsledek jako novou proměnnou a původní list naopak nechceme měnit, musíme si poradit jinak. V případě řazení poslouží funkce sorted() jak už dobře víte."
   ]
  },
  {
   "cell_type": "code",
   "execution_count": 305,
   "metadata": {},
   "outputs": [
    {
     "data": {
      "text/plain": [
       "[333, 100, 60, 50, 40, 30, 30, 20, 10]"
      ]
     },
     "execution_count": 305,
     "metadata": {},
     "output_type": "execute_result"
    }
   ],
   "source": [
    "li"
   ]
  },
  {
   "cell_type": "code",
   "execution_count": 306,
   "metadata": {},
   "outputs": [
    {
     "data": {
      "text/plain": [
       "[10, 20, 30, 30, 40, 50, 60, 100, 333]"
      ]
     },
     "execution_count": 306,
     "metadata": {},
     "output_type": "execute_result"
    }
   ],
   "source": [
    "y = sorted(li)\n",
    "y"
   ]
  },
  {
   "cell_type": "markdown",
   "metadata": {},
   "source": [
    "## Generátory \n",
    "\n",
    "Generátor je objekt, který umí generovat další objekty podobných vlastností. Například prvky matematické posloupnosti, nebo list na jehož prvky aplikujeme nějakou funkci. Generátory mohou být jak **konečné**, tak i **nekonečné**. Ty druhé generují data dokud běží program. Výhodou generátorů je, že jsou paměťově velmi efektivní a tudíž i rychlé.\n",
    "\n",
    "Pro vytvoření konečného generátoru můžeme použít generátorovou notaci podobně jako u generátoru seznamu či slovníku. Pouze v tomto případě využije kulatých závorek, ne lomených (list) či složených (dict).\n",
    "\n",
    "Následující zápis už znáte - vygeneruje list druhých mocnin čísel 0-9-"
   ]
  },
  {
   "cell_type": "code",
   "execution_count": 307,
   "metadata": {},
   "outputs": [
    {
     "data": {
      "text/plain": [
       "[0, 1, 4, 9, 16, 25, 36, 49, 64, 81]"
      ]
     },
     "execution_count": 307,
     "metadata": {},
     "output_type": "execute_result"
    }
   ],
   "source": [
    "ligen = [t**2 for t in range(10)]\n",
    "ligen"
   ]
  },
  {
   "cell_type": "code",
   "execution_count": 308,
   "metadata": {},
   "outputs": [
    {
     "data": {
      "text/plain": [
       "list"
      ]
     },
     "execution_count": 308,
     "metadata": {},
     "output_type": "execute_result"
    }
   ],
   "source": [
    "type(ligen)"
   ]
  },
  {
   "cell_type": "markdown",
   "metadata": {},
   "source": [
    "Generátor z něj vytvoříme změnou dvou znaků - závorek:"
   ]
  },
  {
   "cell_type": "code",
   "execution_count": 309,
   "metadata": {},
   "outputs": [
    {
     "data": {
      "text/plain": [
       "<generator object <genexpr> at 0x7f345036db48>"
      ]
     },
     "execution_count": 309,
     "metadata": {},
     "output_type": "execute_result"
    }
   ],
   "source": [
    "gen = (t**2 for t in range(10))\n",
    "gen"
   ]
  },
  {
   "cell_type": "code",
   "execution_count": 310,
   "metadata": {},
   "outputs": [
    {
     "data": {
      "text/plain": [
       "generator"
      ]
     },
     "execution_count": 310,
     "metadata": {},
     "output_type": "execute_result"
    }
   ],
   "source": [
    "type(gen)"
   ]
  },
  {
   "cell_type": "markdown",
   "metadata": {},
   "source": [
    "Pokud nás zajímají všechna čísla z posloupnosti najednou, je list správná struktura. Co když ale hledáme pouze maximum? Nebo průměr? Nebo součet celé pousloupnosti. V takovém případě je zbytečné nejprve generovat list a držet ho celý v paměti."
   ]
  },
  {
   "cell_type": "code",
   "execution_count": 311,
   "metadata": {},
   "outputs": [
    {
     "data": {
      "text/plain": [
       "285"
      ]
     },
     "execution_count": 311,
     "metadata": {},
     "output_type": "execute_result"
    }
   ],
   "source": [
    "sum(gen)"
   ]
  },
  {
   "cell_type": "code",
   "execution_count": 312,
   "metadata": {},
   "outputs": [
    {
     "data": {
      "text/plain": [
       "285"
      ]
     },
     "execution_count": 312,
     "metadata": {},
     "output_type": "execute_result"
    }
   ],
   "source": [
    "sum(ligen)"
   ]
  },
  {
   "cell_type": "markdown",
   "metadata": {},
   "source": [
    "Pozor na to, že konečný generátor se \"vyčerpá\" pokud projdeme všechny jeho prvky. Pokud je potřeba opakovaně, musíme ho také opakovaně vytvořit. Případně implementovat vlastní typ, který to udělá automaticky, ale o tom příště. \n",
    "\n",
    "Iterovat přes generátor nemusíme jen pomocí cyklu for. Další prvek vydá generátor když na něj zavoláme funkci next(). Můžeme tedy iterovat i jinak, třeba pomocí cyklu while."
   ]
  },
  {
   "cell_type": "code",
   "execution_count": 313,
   "metadata": {},
   "outputs": [
    {
     "name": "stdout",
     "output_type": "stream",
     "text": [
      "0\n",
      "1\n",
      "4\n",
      "9\n",
      "16\n",
      "25\n",
      "36\n"
     ]
    }
   ],
   "source": [
    "gen = (t**2 for t in range(10))\n",
    "run = True\n",
    "while run:\n",
    "    prvek = next(gen)\n",
    "    if prvek > 33:\n",
    "        run = False\n",
    "    \n",
    "    print(prvek)"
   ]
  },
  {
   "cell_type": "markdown",
   "metadata": {},
   "source": [
    "Pokud nám z nějakého důvodu generátorová notace nestačí či nevyhovuje, můžeme použít klíčové slovo **yield** a vytvořit generátor pomocí definice funkce. **Yield** použijeme tam, kde v běžné funkci bude return. Tedy skoro. \n",
    "\n",
    "Return totiž funkci ukončí, takže kód který následuje za ním se nikdy neprovede (ponechme stranou různá větvení). V případě **yield**, ale přijde tento kód při generování na řadu. \n",
    "\n",
    "Následující jednoduché počítadlo je implementováno jako nekonečný generátor. "
   ]
  },
  {
   "cell_type": "code",
   "execution_count": 314,
   "metadata": {
    "collapsed": true
   },
   "outputs": [],
   "source": [
    "def make_counter(x):\n",
    "    print('entering make_counter')\n",
    "    while True:\n",
    "        yield x\n",
    "        print('incrementing x')\n",
    "        x = x + 1"
   ]
  },
  {
   "cell_type": "markdown",
   "metadata": {},
   "source": [
    "Nekonečné generátory je samozřejmě lepší volat pomocí funkce **next**. U for cyklu se nemusíte dočkat konce :)\n",
    "\n",
    "Vytvoříme si tedy počítadlo s úvodní hodnotou 1. Po jeho aktivaci pomocí funkce next() dojde nejprve k voláni funkce print('entering...') a pak už **yield** vydá první hodnotu. Kód funkce se následně zastaví."
   ]
  },
  {
   "cell_type": "code",
   "execution_count": 315,
   "metadata": {},
   "outputs": [
    {
     "name": "stdout",
     "output_type": "stream",
     "text": [
      "entering make_counter\n"
     ]
    },
    {
     "data": {
      "text/plain": [
       "1"
      ]
     },
     "execution_count": 315,
     "metadata": {},
     "output_type": "execute_result"
    }
   ],
   "source": [
    "counter = make_counter(1)\n",
    "next(counter)"
   ]
  },
  {
   "cell_type": "markdown",
   "metadata": {},
   "source": [
    "Jakmile zavoláme next(gen) znovu, kód pokračuje od místa, kde se předtím zastavil. Na dalším řádku je opět funkce print a potom dojde k inkrementaci hodnoty x. While cyklus pokračuje dál, takže opět dojdeme k volání **yield**. Funkce vydá hodnotu a opět se zastaví."
   ]
  },
  {
   "cell_type": "code",
   "execution_count": 316,
   "metadata": {},
   "outputs": [
    {
     "name": "stdout",
     "output_type": "stream",
     "text": [
      "incrementing x\n"
     ]
    },
    {
     "data": {
      "text/plain": [
       "2"
      ]
     },
     "execution_count": 316,
     "metadata": {},
     "output_type": "execute_result"
    }
   ],
   "source": [
    "next(counter)"
   ]
  },
  {
   "cell_type": "markdown",
   "metadata": {},
   "source": [
    "A tak dále. Dokud neukončíme celý program, nebo objekt generátoru neukončíme jinak. "
   ]
  },
  {
   "cell_type": "code",
   "execution_count": 317,
   "metadata": {},
   "outputs": [
    {
     "name": "stdout",
     "output_type": "stream",
     "text": [
      "incrementing x\n"
     ]
    },
    {
     "data": {
      "text/plain": [
       "3"
      ]
     },
     "execution_count": 317,
     "metadata": {},
     "output_type": "execute_result"
    }
   ],
   "source": [
    "next(counter)"
   ]
  },
  {
   "cell_type": "markdown",
   "metadata": {},
   "source": [
    "To platí pro nekonečný generátor. Konečný generátor dojde po předem určeném počtu iterací na konec, což dá najevo vyvoláním výjimky **StopIteration**. For cyklus podle ní pozná, kdy iteraci ukončit, v případě jiného způsobu iterace musíte tuto výjimku zachytit a ošetřit."
   ]
  },
  {
   "cell_type": "code",
   "execution_count": null,
   "metadata": {
    "collapsed": true
   },
   "outputs": [],
   "source": []
  }
 ],
 "metadata": {
  "kernelspec": {
   "display_name": "Python 3",
   "language": "python",
   "name": "python3"
  },
  "language_info": {
   "codemirror_mode": {
    "name": "ipython",
    "version": 3
   },
   "file_extension": ".py",
   "mimetype": "text/x-python",
   "name": "python",
   "nbconvert_exporter": "python",
   "pygments_lexer": "ipython3",
   "version": "3.6.2"
  }
 },
 "nbformat": 4,
 "nbformat_minor": 2
}
